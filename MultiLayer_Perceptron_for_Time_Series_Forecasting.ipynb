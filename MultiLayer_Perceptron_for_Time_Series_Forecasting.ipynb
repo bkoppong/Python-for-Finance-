{
  "nbformat": 4,
  "nbformat_minor": 0,
  "metadata": {
    "kernelspec": {
      "display_name": "Python 3",
      "language": "python",
      "name": "python3"
    },
    "language_info": {
      "codemirror_mode": {
        "name": "ipython",
        "version": 3
      },
      "file_extension": ".py",
      "mimetype": "text/x-python",
      "name": "python",
      "nbconvert_exporter": "python",
      "pygments_lexer": "ipython3",
      "version": "3.7.3"
    },
    "toc": {
      "base_numbering": 1,
      "nav_menu": {},
      "number_sections": true,
      "sideBar": true,
      "skip_h1_title": false,
      "title_cell": "Table of Contents",
      "title_sidebar": "Contents",
      "toc_cell": false,
      "toc_position": {
        "height": "calc(100% - 180px)",
        "left": "10px",
        "top": "150px",
        "width": "336px"
      },
      "toc_section_display": true,
      "toc_window_display": true
    },
    "varInspector": {
      "cols": {
        "lenName": 16,
        "lenType": 16,
        "lenVar": 40
      },
      "kernels_config": {
        "python": {
          "delete_cmd_postfix": "",
          "delete_cmd_prefix": "del ",
          "library": "var_list.py",
          "varRefreshCmd": "print(var_dic_list())"
        },
        "r": {
          "delete_cmd_postfix": ") ",
          "delete_cmd_prefix": "rm(",
          "library": "var_list.r",
          "varRefreshCmd": "cat(var_dic_list()) "
        }
      },
      "types_to_exclude": [
        "module",
        "function",
        "builtin_function_or_method",
        "instance",
        "_Feature"
      ],
      "window_display": false
    },
    "colab": {
      "name": "MultiLayer Perceptron for Time Series Forecasting",
      "provenance": []
    }
  },
  "cells": [
    {
      "cell_type": "markdown",
      "metadata": {
        "id": "2gKGO0jpWuTF"
      },
      "source": [
        "#World Data Science Institute Internship\n",
        "#Python for Finance Cookbook\n",
        "#Deep Learning in Finance\n",
        "# Multilayer perceptrons for time series forecasting\n",
        "By Brandon Oppong-Antwi, Financial Data Scientist @[Linkedin ](https://https://www.linkedin.com/in/brandon-oppong-antwi-0b2234bb/)"
      ]
    },
    {
      "cell_type": "markdown",
      "metadata": {
        "id": "A4ontK4QCNcG"
      },
      "source": [
        "Important Notes on Installations used for Model:\n",
        "\n",
        "Python Version: Python 3.8.3\n",
        "\n",
        "Tensorflow Version: Tensorflow 2.3.0\n",
        "\n",
        "Pytorch Version: Pytorch  1.6.0 with CUDA 101\n",
        "\n",
        "Operating System: Windows 10"
      ]
    },
    {
      "cell_type": "markdown",
      "metadata": {
        "id": "2mzQe9sJYW7M"
      },
      "source": [
        "#Multi Layer Perceptrons for Time Series Forecasting"
      ]
    },
    {
      "cell_type": "markdown",
      "metadata": {
        "id": "-ha_Cxg8ZYvD"
      },
      "source": [
        "## Abstract \n",
        "Deep Learning in Finance comprises a vast field of optimizing neural network architectures in order to solve complex problems that arise in finance.  The fields that deep learning can improve in finance can be creating more reliable fraud detection systems, faster algorithmic trading models, and more accurate price forecasting models. Multilayer perpectrons are an extremely common multi layer feedforward artificial neural network  that generates a set of outputs from a set of inputs. An MLP is characterized by several layers of input nodes connected as a directed graph between the input and output layers. MLP uses backpropogation for training the network. In this exploration, we utilize multilayer perceptron in order to perform time series forecasting on a stock's data in Pytorch. "
      ]
    },
    {
      "cell_type": "code",
      "metadata": {
        "ExecuteTime": {
          "end_time": "2020-01-29T01:50:52.915229Z",
          "start_time": "2020-01-29T01:50:52.762538Z"
        },
        "id": "KFGUIxtqVljR"
      },
      "source": [
        "%matplotlib inline\n",
        "%config InlineBackend.figure_format = 'retina'"
      ],
      "execution_count": null,
      "outputs": []
    },
    {
      "cell_type": "code",
      "metadata": {
        "id": "zk_T1EhnWsWR",
        "outputId": "4a476c3f-89fa-4e3c-cb00-273f5ebfb113",
        "colab": {
          "base_uri": "https://localhost:8080/",
          "height": 459
        }
      },
      "source": [
        "!pip install yfinance"
      ],
      "execution_count": null,
      "outputs": [
        {
          "output_type": "stream",
          "text": [
            "Collecting yfinance\n",
            "  Downloading https://files.pythonhosted.org/packages/7a/e8/b9d7104d3a4bf39924799067592d9e59119fcfc900a425a12e80a3123ec8/yfinance-0.1.55.tar.gz\n",
            "Requirement already satisfied: pandas>=0.24 in /usr/local/lib/python3.6/dist-packages (from yfinance) (1.1.2)\n",
            "Requirement already satisfied: numpy>=1.15 in /usr/local/lib/python3.6/dist-packages (from yfinance) (1.18.5)\n",
            "Requirement already satisfied: requests>=2.20 in /usr/local/lib/python3.6/dist-packages (from yfinance) (2.23.0)\n",
            "Requirement already satisfied: multitasking>=0.0.7 in /usr/local/lib/python3.6/dist-packages (from yfinance) (0.0.9)\n",
            "Collecting lxml>=4.5.1\n",
            "\u001b[?25l  Downloading https://files.pythonhosted.org/packages/79/37/d420b7fdc9a550bd29b8cfeacff3b38502d9600b09d7dfae9a69e623b891/lxml-4.5.2-cp36-cp36m-manylinux1_x86_64.whl (5.5MB)\n",
            "\u001b[K     |████████████████████████████████| 5.5MB 3.7MB/s \n",
            "\u001b[?25hRequirement already satisfied: pytz>=2017.2 in /usr/local/lib/python3.6/dist-packages (from pandas>=0.24->yfinance) (2018.9)\n",
            "Requirement already satisfied: python-dateutil>=2.7.3 in /usr/local/lib/python3.6/dist-packages (from pandas>=0.24->yfinance) (2.8.1)\n",
            "Requirement already satisfied: urllib3!=1.25.0,!=1.25.1,<1.26,>=1.21.1 in /usr/local/lib/python3.6/dist-packages (from requests>=2.20->yfinance) (1.24.3)\n",
            "Requirement already satisfied: certifi>=2017.4.17 in /usr/local/lib/python3.6/dist-packages (from requests>=2.20->yfinance) (2020.6.20)\n",
            "Requirement already satisfied: chardet<4,>=3.0.2 in /usr/local/lib/python3.6/dist-packages (from requests>=2.20->yfinance) (3.0.4)\n",
            "Requirement already satisfied: idna<3,>=2.5 in /usr/local/lib/python3.6/dist-packages (from requests>=2.20->yfinance) (2.10)\n",
            "Requirement already satisfied: six>=1.5 in /usr/local/lib/python3.6/dist-packages (from python-dateutil>=2.7.3->pandas>=0.24->yfinance) (1.15.0)\n",
            "Building wheels for collected packages: yfinance\n",
            "  Building wheel for yfinance (setup.py) ... \u001b[?25l\u001b[?25hdone\n",
            "  Created wheel for yfinance: filename=yfinance-0.1.55-py2.py3-none-any.whl size=22618 sha256=d63f444dcb31efb80d06dd1a8d34367af2ca3c9c1cfbbfc7b96bc41121a52778\n",
            "  Stored in directory: /root/.cache/pip/wheels/04/98/cc/2702a4242d60bdc14f48b4557c427ded1fe92aedf257d4565c\n",
            "Successfully built yfinance\n",
            "Installing collected packages: lxml, yfinance\n",
            "  Found existing installation: lxml 4.2.6\n",
            "    Uninstalling lxml-4.2.6:\n",
            "      Successfully uninstalled lxml-4.2.6\n",
            "Successfully installed lxml-4.5.2 yfinance-0.1.55\n"
          ],
          "name": "stdout"
        }
      ]
    },
    {
      "cell_type": "code",
      "metadata": {
        "id": "XiBQzpS7XCxX",
        "outputId": "45d36a9d-a47b-4a6f-d224-1e4ba794e9f6",
        "colab": {
          "base_uri": "https://localhost:8080/",
          "height": 68
        }
      },
      "source": [
        "!pip install torch"
      ],
      "execution_count": null,
      "outputs": [
        {
          "output_type": "stream",
          "text": [
            "Requirement already satisfied: torch in /usr/local/lib/python3.6/dist-packages (1.6.0+cu101)\n",
            "Requirement already satisfied: numpy in /usr/local/lib/python3.6/dist-packages (from torch) (1.18.5)\n",
            "Requirement already satisfied: future in /usr/local/lib/python3.6/dist-packages (from torch) (0.16.0)\n"
          ],
          "name": "stdout"
        }
      ]
    },
    {
      "cell_type": "code",
      "metadata": {
        "id": "LEMfQ9pfXJjl",
        "outputId": "fc76ef28-f267-49ec-deae-c4412422cbc7",
        "colab": {
          "base_uri": "https://localhost:8080/",
          "height": 102
        }
      },
      "source": [
        "!pip install sklearn"
      ],
      "execution_count": null,
      "outputs": [
        {
          "output_type": "stream",
          "text": [
            "Requirement already satisfied: sklearn in /usr/local/lib/python3.6/dist-packages (0.0)\n",
            "Requirement already satisfied: scikit-learn in /usr/local/lib/python3.6/dist-packages (from sklearn) (0.22.2.post1)\n",
            "Requirement already satisfied: scipy>=0.17.0 in /usr/local/lib/python3.6/dist-packages (from scikit-learn->sklearn) (1.4.1)\n",
            "Requirement already satisfied: joblib>=0.11 in /usr/local/lib/python3.6/dist-packages (from scikit-learn->sklearn) (0.16.0)\n",
            "Requirement already satisfied: numpy>=1.11.0 in /usr/local/lib/python3.6/dist-packages (from scikit-learn->sklearn) (1.18.5)\n"
          ],
          "name": "stdout"
        }
      ]
    },
    {
      "cell_type": "markdown",
      "metadata": {
        "id": "WuVaaNjUbc1D"
      },
      "source": [
        "### Introduction "
      ]
    },
    {
      "cell_type": "markdown",
      "metadata": {
        "id": "Ucre99mb0ksZ"
      },
      "source": [
        "## Contents:\n",
        "\n",
        "### *Introduction* \n",
        "\n",
        "\n",
        "####  In order to build our model we will first define some relevant terminology \n",
        "    - Stocks \n",
        "    - Perceptron\n",
        "    - Multi-layer Perceptron\n",
        "    - Neural Network\n",
        "    - Training Set\n",
        "    - Testing Set\n",
        "\n"
      ]
    },
    {
      "cell_type": "markdown",
      "metadata": {
        "id": "6WL2ZKoZfNub"
      },
      "source": [
        "**Stock **\n",
        "\n",
        "A stock (also known as \"shares\", \"assests\", or \"equity) is a type of security that signifies proportionate ownership in the issuing corporation. Corporations issue (sell) stocks to raise funds to operate their businesses. There are two main types of stock: common and preferred. Stocks are bought and sold predominantly on stock exchanges, though there can be private sales as well and they are the foundation of nearly every portfolio.\n",
        "\n",
        "** Perceptron **\n",
        "\n",
        "\n",
        "The perceptron is a simple binary classification algorithm which was modeled after the rudimentary element of the human brain, the neuron. The perceptron has the ability to divide a set of input signals into two parts—“yes” and “no” or more generally \"0\" or \"1\".\n",
        "\n",
        "**Multi-Layer Perceptron**\n",
        "\n",
        "When perceptrons are added together with additional perceptrons they form a Multilayer perceptron network. Multilayer perceptrons (MLP) are one of the fundamental parts of neural networks and when they are stacked together can solve complex problems. At the basic level, they consist of three components:\n",
        "\n",
        "      1. The input layer: A vector of features. \n",
        "      2. The hidden layers: Each hidden layer consists of N neurons. \n",
        "      3. The output layer: Output of the network; depends on the task (regression/classification).\n",
        "\n",
        "\n",
        "\n",
        "\n",
        "**Artificial Neural Network**\n",
        "\n",
        "An artificial neuron network (ANN) is a computational model which is primarily based of the function and structure of biological neural networks. In neural networks information flows through the network and affects the structure of the ANN because a neural network changes - or learns, in a sense - based on that everchanging inputs and outputs.\n",
        "\n",
        "\n",
        "\n",
        "**Training Set**\n",
        "\n",
        "The training set is the actual dataset used to train the model. In the case of the ANN, this would be the connections between weights and biases in an artificial neural network of the model.\n",
        "\n",
        "**Validation Set**\n",
        "\n",
        "The validation set is the set of data used to provide an unbiased evaluation of whether the model fits on the training dataset while tuning the model's hyperparameters. The evaluation becomes more biased as skill on the validation dataset is incorporated into the model configuration.\n",
        "\n",
        "**Testing Set**\n",
        "\n",
        "The sample of data used to provide an unbiased evaluation of a final model fit on the training dataset.\n",
        "\n",
        "**Naive Forecast**\n",
        "\n",
        "A naive forecast or the naive method of forecasting dictates that we use the previous period to forecast for the next period.In our model we use this to evaluate the perfomance of our model using the mean square error and the root mean squared error.\n",
        "\n",
        "\n",
        "**BackPropogation or BackPropogation Algorithm**\n",
        "\n",
        "Backpropagation is a technique used to optimize the weights of an MLP using the outputs as inputs.\n",
        "\n",
        "In a conventional MLP, random weights are assigned to all the connections. These random weights propagate values through the network to produce the actual output. Naturally, this output would differ from the expected output. The difference between the two values is called the error."
      ]
    },
    {
      "cell_type": "markdown",
      "metadata": {
        "id": "xUCLdbW9Vlki"
      },
      "source": [
        "1. Import the libraries:"
      ]
    },
    {
      "cell_type": "code",
      "metadata": {
        "ExecuteTime": {
          "end_time": "2020-01-29T01:25:27.498636Z",
          "start_time": "2020-01-29T01:25:27.493674Z"
        },
        "id": "FaN6p7GqVlki",
        "outputId": "09fbee9f-59a5-4d97-f5fe-5358444f324f",
        "colab": {
          "base_uri": "https://localhost:8080/",
          "height": 34
        }
      },
      "source": [
        "import yfinance as yf #yFinance allows us to see the stock price as well as access financial data a company puts out into the stock market\n",
        "import numpy as np #numpy is a software library written for Python so that we can linear algebra as well as perform mathematical operations on matrices.\n",
        "import pandas as pd #\n",
        "import matplotlib.pyplot as plt #matplotlib is a software library for Python that creates statisticals graphs/plots of our data\n",
        "import torch #machine learning library for python known as Pytorch allows us to use deep learning frameworks\n",
        "\n",
        "import torch.optim as optim #contains optimization algorithms used for Pytorch\n",
        "import torch.nn as nn #contains neural network architecture\n",
        "import torch.nn.functional as F #contains activation functions that our neural network can use\n",
        "from torch.utils.data import (Dataset, TensorDataset, \n",
        "                              DataLoader, Subset) #python iterable over our data. Allows us to extract and transform our data in order for use in our dataset\n",
        "\n",
        "from sklearn.metrics import mean_squared_error #Mean squared error regression loss for our graphs\n",
        "\n",
        "\n",
        "print(torch.__version__) #highlight the version of torch we are using\n",
        "\n",
        "device = 'cuda' if torch.cuda.is_available() else 'cpu'"
      ],
      "execution_count": null,
      "outputs": [
        {
          "output_type": "stream",
          "text": [
            "1.6.0+cu101\n"
          ],
          "name": "stdout"
        }
      ]
    },
    {
      "cell_type": "markdown",
      "metadata": {
        "id": "i4J2RhDAVlkm"
      },
      "source": [
        "2. Identify our data from Yahoo Finance as well as define our parameters for the model."
      ]
    },
    {
      "cell_type": "code",
      "metadata": {
        "ExecuteTime": {
          "end_time": "2020-01-29T01:25:28.831388Z",
          "start_time": "2020-01-29T01:25:28.828190Z"
        },
        "id": "3pRMmnhIVlkm"
      },
      "source": [
        "# data preparation\n",
        "TICKER = 'IBM' #stock name\n",
        "START_DATE = '2010-01-02' # start date time period\n",
        "END_DATE = '2020-10-10' #end date time period \n",
        "N_LAGS = 3 #Specify the number of lag classes to be defined by the binning function.\n",
        "\n",
        "# neural network features\n",
        "VALID_SIZE = 12 #is the percentage of the data to be held out for validation, 0.2 means 20%.\n",
        "BATCH_SIZE = 5 #the number of samples that will be propagated through the network.\n",
        "N_EPOCHS = 1000 #number of iterations or sessions"
      ],
      "execution_count": null,
      "outputs": []
    },
    {
      "cell_type": "markdown",
      "metadata": {
        "id": "PBGAKxecVlkp"
      },
      "source": [
        "3. Download and prepare the data:\n",
        "\n",
        "Before we can fit an MLP model to the dataset, we must transform the data.\n",
        "\n",
        "The following three data transforms are performed on the dataset prior to fitting a model and making a forecast.\n",
        "\n",
        "- Transform the time series data so that it is stationary. Specifically, set the number of lag classes to 3. This initialization in the lags is to remove the increasing trend in the data.\n",
        "\n",
        "- Transform the time series into a supervised learning problem. A supervised learning problem is a predictive models that uses data points with known outcomes. Specifically, we would want the organization of our data to have input and output patterns where the observation at the previous time step is used as an input to forecast the observation at the current timestep\n",
        "- Transform the observations to have a specific scale. Specifically, to rescale the data to values between -1 and 1.\n",
        "These transforms are inverted on forecasts to return them into their original scale before calculating and error score."
      ]
    },
    {
      "cell_type": "code",
      "metadata": {
        "ExecuteTime": {
          "end_time": "2020-01-29T01:25:30.830839Z",
          "start_time": "2020-01-29T01:25:30.097947Z"
        },
        "id": "I0iiWl1_Vlkp",
        "outputId": "48cfe390-cb64-428c-f957-e945b3d33da7",
        "colab": {
          "base_uri": "https://localhost:8080/",
          "height": 578
        }
      },
      "source": [
        "df = yf.download(TICKER, \n",
        "                 start=START_DATE, \n",
        "                 end=END_DATE,\n",
        "                 progress=False) #download our data from yahoo finance\n",
        "\n",
        "df = df.resample('M').last()  #resample the time series data based on months\n",
        "prices = df['Adj Close'].values #get the adjusted close prices from our data\n",
        "\n",
        "prices"
      ],
      "execution_count": null,
      "outputs": [
        {
          "output_type": "execute_result",
          "data": {
            "text/plain": [
              "array([ 86.39865875,  90.16745758,  90.94034576,  91.47216034,\n",
              "        89.27546692,  88.00681305,  91.51338196,  88.19218445,\n",
              "        96.078125  , 102.85388184, 101.77136993, 105.58436584,\n",
              "       116.5485611 , 116.92334747, 117.78287506, 123.20719147,\n",
              "       122.56110382, 124.46195221, 131.93475342, 125.26628876,\n",
              "       127.423172  , 134.53501892, 137.54130554, 134.52713013,\n",
              "       140.90667725, 144.48867798, 153.24330139, 152.09024048,\n",
              "       142.26924133, 144.24578857, 144.54083252, 144.32098389,\n",
              "       153.65348816, 144.08396912, 141.39665222, 142.49765015,\n",
              "       151.06761169, 150.03010559, 159.34579468, 151.30755615,\n",
              "       156.12973022, 143.43795776, 146.38760376, 137.48695374,\n",
              "       139.68196106, 135.17875671, 136.26109314, 142.24456787,\n",
              "       133.98605347, 141.19432068, 146.77590942, 149.8107605 ,\n",
              "       141.39517212, 139.02526855, 147.00160217, 148.35696411,\n",
              "       146.45146179, 126.83251953, 125.96839142, 124.6245575 ,\n",
              "       119.08620453, 126.6721344 , 125.54571533, 133.98583984,\n",
              "       134.73731995, 129.18583679, 128.65368652, 118.43039703,\n",
              "       116.09207153, 112.1761322 , 112.69488525, 111.23995972,\n",
              "       100.86929321, 106.99502563, 123.66936493, 119.17002869,\n",
              "       127.9671402 , 126.33571625, 133.69378662, 133.38764954,\n",
              "       133.36245728, 129.03034973, 137.42726135, 140.62109375,\n",
              "       147.84741211, 153.54191589, 148.69195557, 136.86593628,\n",
              "       131.59848022, 132.63310242, 124.73529053, 124.62424469,\n",
              "       126.41046143, 134.23483276, 135.49736023, 135.0133667 ,\n",
              "       144.06002808, 138.48442078, 136.35154724, 128.82437134,\n",
              "       126.97467804, 125.52800751, 130.22746277, 133.04219055,\n",
              "       137.33830261, 104.84068298, 114.30725861, 104.55705261,\n",
              "       123.64351654, 128.53646851, 131.30018616, 130.52783203,\n",
              "       119.57386017, 129.84671021, 139.58287048, 129.11875916,\n",
              "       138.54090881, 127.40391541, 129.60273743, 129.20750427,\n",
              "       138.54815674, 126.76780701, 108.04727173, 122.29708099,\n",
              "       123.2857666 , 119.20914459, 121.35110474, 123.30999756,\n",
              "       121.66999817, 127.79000092])"
            ]
          },
          "metadata": {
            "tags": []
          },
          "execution_count": 58
        }
      ]
    },
    {
      "cell_type": "code",
      "metadata": {
        "ExecuteTime": {
          "end_time": "2020-01-17T17:01:24.960921Z",
          "start_time": "2020-01-17T17:01:20.692854Z"
        },
        "id": "AnobKvWSVlks",
        "outputId": "9b236975-7018-4b08-8bf8-42574710c516",
        "colab": {
          "base_uri": "https://localhost:8080/",
          "height": 295
        }
      },
      "source": [
        "fig, ax = plt.subplots()\n",
        "\n",
        "ax.plot(df.index, prices) #plot our stock price over time \n",
        "ax.set(title=f\"{TICKER}'s Stock price (10 year period)\", \n",
        "       xlabel='Time', \n",
        "       ylabel='Price ($)');"
      ],
      "execution_count": null,
      "outputs": [
        {
          "output_type": "display_data",
          "data": {
            "image/png": "[encoded data removed]",
            "text/plain": [
              "<Figure size 432x288 with 1 Axes>"
            ]
          },
          "metadata": {
            "tags": [],
            "needs_background": "light"
          }
        }
      ]
    },
    {
      "cell_type": "markdown",
      "metadata": {
        "id": "kKR_6kIUVlkv"
      },
      "source": [
        "4. Define a function for transforming time series into a dataset for the MLP:"
      ]
    },
    {
      "cell_type": "code",
      "metadata": {
        "ExecuteTime": {
          "end_time": "2020-01-17T17:01:24.980384Z",
          "start_time": "2020-01-17T17:01:24.975782Z"
        },
        "id": "vuSc9_G8Vlkw"
      },
      "source": [
        "#create a helper function\n",
        "#split a multivariate sequence into samples\n",
        "def create_input_data(series, n_lags=1): #function for transforming time series data contains our series(an array, n_lags)\n",
        "\n",
        "    '''\n",
        "    Function for transforming time series into input acceptable by a multilayer perceptron.\n",
        "    \n",
        "    Parameters\n",
        "    ----------\n",
        "    series : np.array\n",
        "        The time series to be transformed\n",
        "    n_lags : int\n",
        "        The number of lagged observations to consider as features\n",
        "\n",
        "    Returns\n",
        "    -------\n",
        "    X : np.array\n",
        "        Array of features\n",
        "    y : np.array\n",
        "        Array of target\n",
        "    '''\n",
        "    X, y = [], []\n",
        "#find the end of this pattern \n",
        "    for step in range(len(series) - n_lags): #get a range for the length of the series - n legs at each step\n",
        "        end_step = step + n_lags\n",
        "        X.append(series[step:end_step])\n",
        "        y.append(series[end_step])\n",
        "    return np.array(X), np.array(y) #gather input or parts of the pattern"
      ],
      "execution_count": null,
      "outputs": []
    },
    {
      "cell_type": "markdown",
      "metadata": {
        "id": "qsojYlNMVlky"
      },
      "source": [
        "5. Transform the considered time series into input for the MLP:"
      ]
    },
    {
      "cell_type": "code",
      "metadata": {
        "ExecuteTime": {
          "end_time": "2020-01-17T17:01:24.998653Z",
          "start_time": "2020-01-17T17:01:24.994131Z"
        },
        "id": "UN97s2IXVlkz"
      },
      "source": [
        "#create_input_data function to obtain the model's inputs from the times series of stock prices. We used three lagged values as features\n",
        "X, y = create_input_data(prices, N_LAGS) #array of prices features and the lag classes\n",
        "\n",
        "X_tensor = torch.from_numpy(X).float() #transform our prices into torch tensor arrays\n",
        "y_tensor = torch.from_numpy(y).float().unsqueeze(dim=1) #transforms our lags into  torch tensor array"
      ],
      "execution_count": null,
      "outputs": []
    },
    {
      "cell_type": "markdown",
      "metadata": {
        "ExecuteTime": {
          "end_time": "2020-01-07T09:39:12.779014Z",
          "start_time": "2020-01-07T09:39:12.775815Z"
        },
        "id": "NFGYvAdvVlk2"
      },
      "source": [
        "6. Create training and validation sets:"
      ]
    },
    {
      "cell_type": "code",
      "metadata": {
        "ExecuteTime": {
          "end_time": "2020-01-17T17:01:25.070207Z",
          "start_time": "2020-01-17T17:01:25.065734Z"
        },
        "id": "sCuHR4rlVlk2"
      },
      "source": [
        "valid_ind = len(X) - VALID_SIZE #last valid_size indices\n",
        "dataset = TensorDataset(X_tensor, y_tensor) #creation of our tensor dataset for inputs \n",
        "\n",
        "train_dataset = Subset(dataset, list(range(valid_ind))) #the dataset the encompasses all our training data \n",
        "valid_dataset = Subset(dataset, list(range(valid_ind, len(X)))) #valid dataset\n",
        "\n",
        "train_loader = DataLoader(dataset=train_dataset, #training dataset loaded with the batch size\n",
        "                          batch_size=BATCH_SIZE)\n",
        "valid_loader = DataLoader(dataset=valid_dataset, #valid dataset loaded with the batch size\n",
        "                          batch_size=BATCH_SIZE)"
      ],
      "execution_count": null,
      "outputs": []
    },
    {
      "cell_type": "markdown",
      "metadata": {
        "id": "uVa4uQc-Vlk5"
      },
      "source": [
        "Inspect the observations from the first batch:"
      ]
    },
    {
      "cell_type": "code",
      "metadata": {
        "ExecuteTime": {
          "end_time": "2020-01-17T17:01:25.507198Z",
          "start_time": "2020-01-17T17:01:25.501836Z"
        },
        "id": "JqMkBIRAVlk5",
        "outputId": "fcae9dc0-60ce-4d43-cee0-fb1dc2877d64",
        "colab": {
          "base_uri": "https://localhost:8080/",
          "height": 102
        }
      },
      "source": [
        "next(iter(train_loader))[0]"
      ],
      "execution_count": null,
      "outputs": [
        {
          "output_type": "execute_result",
          "data": {
            "text/plain": [
              "tensor([[86.3987, 90.1675, 90.9403],\n",
              "        [90.1675, 90.9403, 91.4722],\n",
              "        [90.9403, 91.4722, 89.2755],\n",
              "        [91.4722, 89.2755, 88.0068],\n",
              "        [89.2755, 88.0068, 91.5134]])"
            ]
          },
          "metadata": {
            "tags": []
          },
          "execution_count": 36
        }
      ]
    },
    {
      "cell_type": "code",
      "metadata": {
        "ExecuteTime": {
          "end_time": "2020-01-17T17:01:25.834680Z",
          "start_time": "2020-01-17T17:01:25.828450Z"
        },
        "id": "vQxrfDiAVlk8",
        "outputId": "fe2c3e6b-f9ad-4582-c27e-ca20cf0689ba",
        "colab": {
          "base_uri": "https://localhost:8080/",
          "height": 102
        }
      },
      "source": [
        "next(iter(train_loader))[1]"
      ],
      "execution_count": null,
      "outputs": [
        {
          "output_type": "execute_result",
          "data": {
            "text/plain": [
              "tensor([[91.4722],\n",
              "        [89.2755],\n",
              "        [88.0068],\n",
              "        [91.5134],\n",
              "        [88.1922]])"
            ]
          },
          "metadata": {
            "tags": []
          },
          "execution_count": 38
        }
      ]
    },
    {
      "cell_type": "markdown",
      "metadata": {
        "id": "5ttZMkwZVllA"
      },
      "source": [
        "Check the size of the datasets:"
      ]
    },
    {
      "cell_type": "code",
      "metadata": {
        "ExecuteTime": {
          "end_time": "2020-01-17T17:01:27.026122Z",
          "start_time": "2020-01-17T17:01:27.023045Z"
        },
        "id": "IPgdcrgwVllA",
        "outputId": "e6c611cd-6d3c-4ee0-ee97-c63532d196de",
        "colab": {
          "base_uri": "https://localhost:8080/",
          "height": 34
        }
      },
      "source": [
        "print(f'Size of datasets - training: {len(train_loader.dataset)} | validation: {len(valid_loader.dataset)}')"
      ],
      "execution_count": null,
      "outputs": [
        {
          "output_type": "stream",
          "text": [
            "Size of datasets - training: 105 | validation: 12\n"
          ],
          "name": "stdout"
        }
      ]
    },
    {
      "cell_type": "markdown",
      "metadata": {
        "id": "rrPxNeAiVllD"
      },
      "source": [
        "7. Use naive forecast as a benchmark and evaluate the performance:"
      ]
    },
    {
      "cell_type": "code",
      "metadata": {
        "ExecuteTime": {
          "end_time": "2020-01-17T17:01:28.115536Z",
          "start_time": "2020-01-17T17:01:28.110894Z"
        },
        "id": "FBUGVOP5VllD",
        "outputId": "1422e0ea-f455-4fe2-bf85-732443bbbf07",
        "colab": {
          "base_uri": "https://localhost:8080/",
          "height": 34
        }
      },
      "source": [
        "naive_pred = prices[len(prices) - VALID_SIZE - 1:-1]\n",
        "y_valid = prices[len(prices) - VALID_SIZE:]\n",
        "\n",
        "naive_mse = mean_squared_error(y_valid, naive_pred) #mean squared error \n",
        "naive_rmse = np.sqrt(naive_mse) #root mean square deviation\n",
        "print(f\"Naive forecast - MSE: {naive_mse:.2f}, RMSE: {naive_rmse:.2f}\")"
      ],
      "execution_count": null,
      "outputs": [
        {
          "output_type": "stream",
          "text": [
            "Naive forecast - MSE: 70.89, RMSE: 8.42\n"
          ],
          "name": "stdout"
        }
      ]
    },
    {
      "cell_type": "markdown",
      "metadata": {
        "id": "1lk4i68BVllJ"
      },
      "source": [
        "8. Define the network's architecture:\n",
        "\n",
        "In order to build our MLP model we use a feedforward neural network. This feedforward neural network is primarily used for supervised learning in cases where the data to be learned is neither sequential nor time-dependent. Unlike the single-layer perceptron, the feedforward models have hidden layers in between the input and the output layers. After every hidden layer, an activation function is applied to introduce non-linearity. "
      ]
    },
    {
      "cell_type": "markdown",
      "metadata": {
        "id": "qK_kmfPZBwS3"
      },
      "source": [
        "MLP Model\n",
        "We will use a base MLP model with 1 neuron hidden layer, a rectified linear activation function on hidden neurons, and linear activation function on output neurons.\n",
        "\n",
        "A batch size of 5 is used where possible, with the training data truncated to ensure the number of patterns is divisible by 5. In some cases a batch size of 2 is used.\n",
        "\n",
        "Normally, the training dataset is shuffled after each batch or each epoch, which can aid in fitting the training dataset on classification and regression problems. Shuffling was turned off for all experiments as it seemed to result in better performance. More studies are needed to confirm this result for time series forecasting.\n",
        "\n",
        "The model will be fit using the efficient ADAM optimization algorithm and the mean squared error loss function."
      ]
    },
    {
      "cell_type": "code",
      "metadata": {
        "ExecuteTime": {
          "end_time": "2020-01-17T17:01:30.048733Z",
          "start_time": "2020-01-17T17:01:30.042722Z"
        },
        "id": "-gfYoKz4VllK"
      },
      "source": [
        "class MLP(nn.Module):\n",
        "   \n",
        "#store all the trainable operations in the init function\n",
        "    def __init__(self, input_size): \n",
        "        super(MLP, self).__init__() #based classes that may be using cooperative multiple inheritance will call the correct next parent class function \n",
        "        self.linear1 = nn.Linear(input_size, 8) #fully connected layer - size of input samples\n",
        "        self.linear2 = nn.Linear(8, 4)# fully connected layer - size of input samples\n",
        "        self.linear3 = nn.Linear(4, 1) #fully connected layer size of input samples\n",
        "        self.dropout = nn.Dropout(p=0.2) #randomly drops or zeroes some of the elements of the input tensor with probability p= 0.2 or 20%\n",
        "    \n",
        "  #forward function defines how to get the output of the neural net through activation functions\n",
        "    def forward(self, x):\n",
        "        x = self.linear1(x) #fully connected layer\n",
        "        x = F.relu(x) #relu activation function. Rectified linear unit to introduce non linearity\n",
        "        x = self.dropout(x)\n",
        "        x = self.linear2(x)\n",
        "        x = F.relu(x)\n",
        "        x = self.dropout(x)\n",
        "        x = self.linear3(x)\n",
        "        return x"
      ],
      "execution_count": null,
      "outputs": []
    },
    {
      "cell_type": "markdown",
      "metadata": {
        "id": "60J1f4jtVllO"
      },
      "source": [
        "9. Instantiate the model, the loss function and the optimizer:"
      ]
    },
    {
      "cell_type": "code",
      "metadata": {
        "ExecuteTime": {
          "end_time": "2020-01-17T17:01:31.765102Z",
          "start_time": "2020-01-17T17:01:31.753257Z"
        },
        "id": "hLlIu8ecVllO"
      },
      "source": [
        "# set seed for reproducibility\n",
        "\n",
        "torch.manual_seed(42)\n",
        "\n",
        "## Use the optim package to define an Optimizer that will update the weights of\n",
        "# the model for us. Here we will use Adam; the optim package contains many other\n",
        "# optimization algorithms. The first argument to the Adam constructor tells the\n",
        "# optimizer which Tensors it should update. \n",
        "model = MLP(N_LAGS).to(device) \n",
        "loss_fn = nn.MSELoss() #creation of the loss function for the neural network\n",
        "optimizer = optim.Adam(model.parameters(), lr=0.001) #optimizer function "
      ],
      "execution_count": null,
      "outputs": []
    },
    {
      "cell_type": "code",
      "metadata": {
        "ExecuteTime": {
          "end_time": "2020-01-17T17:01:34.101210Z",
          "start_time": "2020-01-17T17:01:34.097485Z"
        },
        "id": "4b4r7z2OVllR",
        "outputId": "9a06ab6d-bcb5-40ec-d44a-39c889052010",
        "colab": {
          "base_uri": "https://localhost:8080/",
          "height": 119
        }
      },
      "source": [
        "model"
      ],
      "execution_count": null,
      "outputs": [
        {
          "output_type": "execute_result",
          "data": {
            "text/plain": [
              "MLP(\n",
              "  (linear1): Linear(in_features=3, out_features=8, bias=True)\n",
              "  (linear2): Linear(in_features=8, out_features=4, bias=True)\n",
              "  (linear3): Linear(in_features=4, out_features=1, bias=True)\n",
              "  (dropout): Dropout(p=0.2, inplace=False)\n",
              ")"
            ]
          },
          "metadata": {
            "tags": []
          },
          "execution_count": 42
        }
      ]
    },
    {
      "cell_type": "markdown",
      "metadata": {
        "id": "1rOXu6jpVllU"
      },
      "source": [
        "10. Train the network:\n",
        "\n",
        "We train the network for our respective number of eposides(epochs). We print every 50 training sessions and the loss associated with each."
      ]
    },
    {
      "cell_type": "code",
      "metadata": {
        "ExecuteTime": {
          "end_time": "2020-01-17T17:01:58.775615Z",
          "start_time": "2020-01-17T17:01:38.818401Z"
        },
        "id": "nPJlCxrtVllV",
        "outputId": "27a5d759-d67d-4ce8-971e-6fda9b40f878",
        "colab": {
          "base_uri": "https://localhost:8080/",
          "height": 374
        }
      },
      "source": [
        "PRINT_EVERY = 50\n",
        "train_losses, valid_losses = [], []\n",
        "\n",
        "#nested loop\n",
        "for epoch in range(N_EPOCHS):\n",
        "    running_loss_train = 0\n",
        "    running_loss_valid = 0\n",
        "\n",
        "    model.train()\n",
        "    \n",
        "    for x_batch, y_batch in train_loader:\n",
        "        \n",
        "        optimizer.zero_grad() #gradient descent optimizer zeroes gradients\n",
        "        #multiply the loss by the batch size to transform the value into the overall sum of the losses and later divided it by the number of observations in the training dataset\n",
        "        x_batch = x_batch.to(device)\n",
        "        y_batch = y_batch.to(device)\n",
        "        y_hat = model(x_batch)\n",
        "        loss = loss_fn(y_batch, y_hat)\n",
        "        loss.backward()\n",
        "        optimizer.step() #carry out one step of the optimization routine using the specified learning rate\n",
        "        running_loss_train += loss.item() * x_batch.size(0)\n",
        "        \n",
        "    epoch_loss_train = running_loss_train / len(train_loader.dataset)\n",
        "    train_losses.append(epoch_loss_train)\n",
        "\n",
        "   \n",
        "   #evaluate the networks perfomance\n",
        "    with torch.no_grad():\n",
        "        \n",
        "        model.eval()\n",
        "        \n",
        "        for x_val, y_val in valid_loader:\n",
        "            x_val = x_val.to(device)\n",
        "            y_val = y_val.to(device)\n",
        "            y_hat = model(x_val)\n",
        "            loss = loss_fn(y_val, y_hat)\n",
        "            running_loss_valid += loss.item() * x_val.size(0)\n",
        "            \n",
        "        epoch_loss_valid = running_loss_valid / len(valid_loader.dataset) # loss function already averages over batch size\n",
        "            \n",
        "        if epoch > 0 and epoch_loss_valid < min(valid_losses):\n",
        "            best_epoch = epoch\n",
        "            torch.save(model.state_dict(), './mlp_checkpoint.pth')\n",
        "            \n",
        "        valid_losses.append(epoch_loss_valid)\n",
        "\n",
        "    if epoch % PRINT_EVERY == 0:\n",
        "        print(f\"<{epoch}> - Train. loss: {epoch_loss_train:.2f} \\t Valid. loss: {epoch_loss_valid:.2f}\")\n",
        "        \n",
        "print(f'Lowest loss recorded in epoch: {best_epoch}')"
      ],
      "execution_count": null,
      "outputs": [
        {
          "output_type": "stream",
          "text": [
            "<0> - Train. loss: 21675.00 \t Valid. loss: 17878.84\n",
            "<50> - Train. loss: 3096.09 \t Valid. loss: 540.95\n",
            "<100> - Train. loss: 2574.28 \t Valid. loss: 270.64\n",
            "<150> - Train. loss: 2143.77 \t Valid. loss: 296.03\n",
            "<200> - Train. loss: 2413.66 \t Valid. loss: 207.44\n",
            "<250> - Train. loss: 2753.08 \t Valid. loss: 242.24\n",
            "<300> - Train. loss: 2149.04 \t Valid. loss: 207.00\n",
            "<350> - Train. loss: 1932.58 \t Valid. loss: 372.59\n",
            "<400> - Train. loss: 2684.56 \t Valid. loss: 308.95\n",
            "<450> - Train. loss: 2266.03 \t Valid. loss: 276.32\n",
            "<500> - Train. loss: 2403.63 \t Valid. loss: 325.72\n",
            "<550> - Train. loss: 2269.54 \t Valid. loss: 267.57\n",
            "<600> - Train. loss: 1983.42 \t Valid. loss: 450.96\n",
            "<650> - Train. loss: 2319.91 \t Valid. loss: 221.56\n",
            "<700> - Train. loss: 1993.81 \t Valid. loss: 252.72\n",
            "<750> - Train. loss: 2085.70 \t Valid. loss: 279.87\n",
            "<800> - Train. loss: 1869.67 \t Valid. loss: 188.48\n",
            "<850> - Train. loss: 1914.92 \t Valid. loss: 293.44\n",
            "<900> - Train. loss: 1824.38 \t Valid. loss: 152.08\n",
            "<950> - Train. loss: 1974.13 \t Valid. loss: 168.99\n",
            "Lowest loss recorded in epoch: 992\n"
          ],
          "name": "stdout"
        }
      ]
    },
    {
      "cell_type": "markdown",
      "metadata": {
        "id": "rCGhG1AyVllY"
      },
      "source": [
        "11. Plot the losses over epochs:"
      ]
    },
    {
      "cell_type": "code",
      "metadata": {
        "ExecuteTime": {
          "end_time": "2020-01-17T17:02:19.731066Z",
          "start_time": "2020-01-17T17:02:14.325554Z"
        },
        "id": "loTk0lCOVllY",
        "outputId": "4d74531b-b863-4cc2-eede-47c7f6b48cac",
        "colab": {
          "base_uri": "https://localhost:8080/",
          "height": 295
        }
      },
      "source": [
        "train_losses = np.array(train_losses) #training losses\n",
        "valid_losses = np.array(valid_losses) #validation losses\n",
        "\n",
        "fig, ax = plt.subplots()\n",
        "\n",
        "ax.plot(train_losses, color='blue', label='Training loss')\n",
        "ax.plot(valid_losses, color='red', label='Validation loss')\n",
        "\n",
        "ax.set(title='Loss over epochs', \n",
        "       xlabel='Epoch', \n",
        "       ylabel='Loss')\n",
        "ax.legend()\n",
        "\n",
        "plt.show() "
      ],
      "execution_count": null,
      "outputs": [
        {
          "output_type": "display_data",
          "data": {
            "image/png": "[encoded data removed]",
            "text/plain": [
              "<Figure size 432x288 with 1 Axes>"
            ]
          },
          "metadata": {
            "tags": [],
            "needs_background": "light"
          }
        }
      ]
    },
    {
      "cell_type": "markdown",
      "metadata": {
        "id": "Wa-Lz-O8Vllc"
      },
      "source": [
        "12. Load the best model (with the lowest validation loss):"
      ]
    },
    {
      "cell_type": "code",
      "metadata": {
        "ExecuteTime": {
          "end_time": "2020-01-17T17:04:23.338677Z",
          "start_time": "2020-01-17T17:04:23.333539Z"
        },
        "id": "V6nanWsNVlle",
        "outputId": "6e3f216a-9fc9-475e-8465-2ae5db7aea80",
        "colab": {
          "base_uri": "https://localhost:8080/",
          "height": 34
        }
      },
      "source": [
        "state_dict = torch.load('mlp_checkpoint.pth')  #loaded the state dictionary of the network with the lowest validation loss\n",
        "model.load_state_dict(state_dict) "
      ],
      "execution_count": null,
      "outputs": [
        {
          "output_type": "execute_result",
          "data": {
            "text/plain": [
              "<All keys matched successfully>"
            ]
          },
          "metadata": {
            "tags": []
          },
          "execution_count": 47
        }
      ]
    },
    {
      "cell_type": "markdown",
      "metadata": {
        "id": "5sm_TQ-iVllj"
      },
      "source": [
        "13. Obtain the predictions:"
      ]
    },
    {
      "cell_type": "code",
      "metadata": {
        "ExecuteTime": {
          "end_time": "2020-01-17T17:04:24.783484Z",
          "start_time": "2020-01-17T17:04:24.777477Z"
        },
        "id": "LLXZzBXYVllj"
      },
      "source": [
        "y_pred, y_valid= [], []\n",
        "\n",
        "with torch.no_grad():\n",
        "\n",
        "    model.eval()\n",
        "    \n",
        "    for x_val, y_val in valid_loader:\n",
        "        x_val = x_val.to(device)    \n",
        "        y_pred.append(model(x_val))\n",
        "        y_valid.append(y_val)\n",
        "        \n",
        "y_pred = torch.cat(y_pred).numpy().flatten() #concentanate a list of tensors\n",
        "y_valid = torch.cat(y_valid).numpy().flatten() #cocentanate a list of tensor"
      ],
      "execution_count": null,
      "outputs": []
    },
    {
      "cell_type": "markdown",
      "metadata": {
        "id": "K0tVvt9kVlln"
      },
      "source": [
        "14. Evaluate the predictions:"
      ]
    },
    {
      "cell_type": "code",
      "metadata": {
        "ExecuteTime": {
          "end_time": "2020-01-17T17:04:33.119492Z",
          "start_time": "2020-01-17T17:04:27.538117Z"
        },
        "id": "01jR-a0fVllp",
        "outputId": "3dcde40b-1c1d-4891-ee2d-1f759822ce76",
        "colab": {
          "base_uri": "https://localhost:8080/",
          "height": 312
        }
      },
      "source": [
        "mlp_mse = mean_squared_error(y_valid, y_pred)\n",
        "mlp_rmse = np.sqrt(mlp_mse)\n",
        "print(f\"MLP's forecast - MSE: {mlp_mse:.2f}, RMSE: {mlp_rmse:.2f}\")\n",
        "\n",
        "fig, ax = plt.subplots()\n",
        "\n",
        "ax.plot(y_valid, color='blue', label= 'True')\n",
        "ax.plot(y_pred, color='red', label='Prediction')\n",
        "\n",
        "ax.set(title=\"Multilayer Perceptron's Forecasts\", \n",
        "       xlabel='Time', \n",
        "       ylabel='Price ($)')\n",
        "ax.legend()\n",
        "\n",
        "plt.show()"
      ],
      "execution_count": null,
      "outputs": [
        {
          "output_type": "stream",
          "text": [
            "MLP's forecast - MSE: 93.28, RMSE: 9.66\n"
          ],
          "name": "stdout"
        },
        {
          "output_type": "display_data",
          "data": {
            "image/png": "[encoded data removed]",
            "text/plain": [
              "<Figure size 432x288 with 1 Axes>"
            ]
          },
          "metadata": {
            "tags": [],
            "needs_background": "light"
          }
        }
      ]
    },
    {
      "cell_type": "markdown",
      "metadata": {
        "id": "VlHbAXELMkpM"
      },
      "source": [
        "Naive forecast - MSE: 70.89, RMSE: 8.42\n",
        "\n",
        "\n",
        "\n",
        "We compare our MLP'S time series forecast to our naive forecast to find that the network is not able to pick up the patterns in time, hence, the predicted line is shifted to the right of the actual one. Using the multilayer perceptron, we obtained results better than with the naïve forecast. This ultimately shows MLP's strength in forecasting time series stock prediction price.\n",
        "\n",
        "\n"
      ]
    }
  ]
}
